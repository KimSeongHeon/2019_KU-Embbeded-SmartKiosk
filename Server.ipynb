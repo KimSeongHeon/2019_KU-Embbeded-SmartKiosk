{
 "cells": [
  {
   "cell_type": "markdown",
   "metadata": {},
   "source": [
    "# 데이터 베이스 생성"
   ]
  },
  {
   "cell_type": "code",
   "execution_count": 3,
   "metadata": {},
   "outputs": [],
   "source": [
    "import pymysql\n",
    "#데이터 베이스 생성\n",
    "conn = pymysql.connect(host='localhost', user='root', password='tjdgjs789', charset='utf8')\n",
    "try:\n",
    "    with conn.cursor() as cursor:\n",
    "        sql = 'CREATE DATABASE KU_SMART_KIOSK'\n",
    "        cursor.execute(sql)\n",
    "    conn.commit()\n",
    "finally:\n",
    "    conn.close()"
   ]
  },
  {
   "cell_type": "markdown",
   "metadata": {},
   "source": [
    "# 테이블 생성"
   ]
  },
  {
   "cell_type": "code",
   "execution_count": 53,
   "metadata": {},
   "outputs": [],
   "source": [
    "#테이블 생성\n",
    "conn = pymysql.connect(host='localhost',\n",
    "        user='root',\n",
    "        password='tjdgjs789',\n",
    "        db='KU_SMART_KIOSK',\n",
    "        charset='utf8')\n",
    " \n",
    "try:\n",
    "    with conn.cursor() as cursor:\n",
    "        sql = '''\n",
    "            CREATE TABLE User (\n",
    "                id varchar(11) NOT NULL PRIMARY KEY,\n",
    "                name varchar(255) NOT NULL,\n",
    "                phone varchar(255) NOT NULL,\n",
    "                love varchar(255) NOT NULL,\n",
    "                hate varchar(255) NOT NULL,\n",
    "                blind varchar(11),\n",
    "                recent varchar(255)\n",
    "            ) ENGINE=InnoDB DEFAULT CHARSET=utf8\n",
    "'''\n",
    "        cursor.execute(sql)\n",
    "    conn.commit()\n",
    "finally:\n",
    "    conn.close()"
   ]
  },
  {
   "cell_type": "markdown",
   "metadata": {},
   "source": [
    "# 테이블에 Insert"
   ]
  },
  {
   "cell_type": "code",
   "execution_count": 4,
   "metadata": {},
   "outputs": [],
   "source": [
    "#Insert 하기\n",
    "def insert_sql(face_id,name,phone,like,hate,blind):\n",
    "    conn = pymysql.connect(host='localhost',\n",
    "            user='seongheon',\n",
    "            password='tjdgjs789',\n",
    "            db='KU_SMART_KIOSK',\n",
    "            charset='utf8')\n",
    "    display(phone)\n",
    "\n",
    "    try:\n",
    "        with conn.cursor() as cursor:\n",
    "            sql = 'INSERT INTO User (id,name,phone,love,hate,blind) VALUES (%s, %s, %s,%s,%s,%s)'\n",
    "            cursor.execute(sql,(face_id,name,phone,like,hate,blind))\n",
    "        conn.commit()\n",
    "    finally:\n",
    "        conn.close()"
   ]
  },
  {
   "cell_type": "markdown",
   "metadata": {},
   "source": [
    "# 얼굴 데이터 수집"
   ]
  },
  {
   "cell_type": "code",
   "execution_count": 1,
   "metadata": {},
   "outputs": [],
   "source": [
    "import cv2\n",
    "import os\n",
    "import numpy as np\n",
    "\n",
    "def select_data(Filename):\n",
    "    FilePath = 'C:\\\\Users\\\\rlat3\\\\임베디드 컴퓨팅\\\\upload\\\\'+Filename\n",
    "    cam = cv2.VideoCapture(FilePath)\n",
    "    cam.set(3, 640) # set video width\n",
    "    cam.set(4, 480) # set video height\n",
    "    face_detector = cv2.CascadeClassifier('haarcascade_frontalface_default.xml')\n",
    "\n",
    "    # For each person, enter one numeric face id\n",
    "    #id 지정\n",
    "    f = open(\"count.txt\",'r')\n",
    "    line = f.readline()\n",
    "    print(line)\n",
    "    face_id = int(line) + 1\n",
    "    f.close()\n",
    "    f = open(\"count.txt\",'w')\n",
    "    f.write(str(face_id))\n",
    "    f.close()\n",
    "\n",
    "    # Initialize individual sampling face count\n",
    "    count = 0\n",
    "    while(True):\n",
    "        ret, img = cam.read()\n",
    "        img = cv2.flip(img, 1) # flip video image vertically\n",
    "        gray = cv2.cvtColor(img, cv2.COLOR_BGR2GRAY)\n",
    "        faces = face_detector.detectMultiScale(gray, 1.3, 5)\n",
    "        for (x,y,w,h) in faces:\n",
    "            try:\n",
    "                cv2.rectangle(img, (x,y), (x+w,y+h), (255,0,0), 2)     \n",
    "                count += 1\n",
    "                # Save the captured image into the datasets folder\n",
    "                cv2.imwrite(r\"dataset/User.\" + str(face_id) + '.' + str(count) + \".jpg\", gray[y:y+h,x:x+w])\n",
    "                cv2.imshow('image', img)\n",
    "            except Exception:\n",
    "                print(Exception)\n",
    "                break\n",
    "        k = cv2.waitKey(100) & 0xff # Press 'ESC' for exiting video\n",
    "        if k == 27:\n",
    "            break\n",
    "        elif count >= 30: # Take 30 face sample and stop video\n",
    "            break\n",
    "# Do a bit of cleanup\n",
    "    print(\"\\n [INFO] Exiting Program and cleanup stuff\")\n",
    "    cam.release()\n",
    "    cv2.destroyAllWindows()"
   ]
  },
  {
   "cell_type": "markdown",
   "metadata": {},
   "source": [
    "# 얼굴 데이터 학습"
   ]
  },
  {
   "cell_type": "code",
   "execution_count": 2,
   "metadata": {},
   "outputs": [],
   "source": [
    "from PIL import Image\n",
    "\n",
    "path = 'dataset'\n",
    "recognizer = cv2.face.LBPHFaceRecognizer_create()\n",
    "detector = cv2.CascadeClassifier(\"haarcascade_frontalface_default.xml\");\n",
    "\n",
    "def getImagesAndLabels(path):\n",
    "    imagePaths = [os.path.join(path,f) for f in os.listdir(path)]     \n",
    "    faceSamples=[]\n",
    "    ids = []\n",
    "    for imagePath in imagePaths:\n",
    "        PIL_img = Image.open(imagePath).convert('L') # convert it to grayscale\n",
    "        img_numpy = np.array(PIL_img,'uint8')\n",
    "        print(imagePath)\n",
    "        print(os.path.split(imagePath)[-1].split(\".\")[1])\n",
    "        id = int(os.path.split(imagePath)[-1].split(\".\")[1])\n",
    "        faces = detector.detectMultiScale(img_numpy)\n",
    "        for (x,y,w,h) in faces:\n",
    "            faceSamples.append(img_numpy[y:y+h,x:x+w])\n",
    "            ids.append(id)\n",
    "    return faceSamples,ids\n",
    "def learning():\n",
    "    \n",
    "    print (\"\\n [INFO] Training faces. It will take a few seconds. Wait ...\")\n",
    "    faces,ids = getImagesAndLabels(path)\n",
    "    recognizer.train(faces, np.array(ids))\n",
    "\n",
    "    # Save the model into trainer/trainer.yml\n",
    "    recognizer.write('trainer/trainer.yml') # recognizer.save() worked on Mac, but not on Pi\n",
    "    # Print the numer of faces trained and end program\n",
    "    print(\"\\n [INFO] {0} faces trained. Exiting Program\".format(len(np.unique(ids))))"
   ]
  },
  {
   "cell_type": "markdown",
   "metadata": {},
   "source": [
    "# 학습 데이터를 라즈베리파이로 보내기"
   ]
  },
  {
   "cell_type": "code",
   "execution_count": 7,
   "metadata": {},
   "outputs": [
    {
     "name": "stdout",
     "output_type": "stream",
     "text": [
      "None\n"
     ]
    }
   ],
   "source": [
    "import requests\n",
    "\n",
    "def send_to_rasp():\n",
    "    #보내고자 하는 파일 연다\n",
    "    files = open('C:\\\\Users\\\\rlat3\\\\임베디드 컴퓨팅\\\\trainer\\\\trainer.yml','rb')\n",
    "    #파이썬 딕셔너리 형식으로 file 설정\n",
    "    upload = {'file':files}\n",
    "    URL = \"http://127.0.0.1:10000/learning\"\n",
    "    res = requests.post(URL,files = upload)\n",
    "    \n",
    "print(send_to_rasp())"
   ]
  },
  {
   "cell_type": "markdown",
   "metadata": {},
   "source": [
    "# Flask Server Open"
   ]
  },
  {
   "cell_type": "code",
   "execution_count": null,
   "metadata": {
    "scrolled": false
   },
   "outputs": [
    {
     "name": "stdout",
     "output_type": "stream",
     "text": [
      " * Serving Flask app \"__main__\" (lazy loading)\n",
      " * Environment: production\n",
      "   WARNING: This is a development server. Do not use it in a production deployment.\n",
      "   Use a production WSGI server instead.\n",
      " * Debug mode: off\n"
     ]
    },
    {
     "name": "stderr",
     "output_type": "stream",
     "text": [
      " * Running on http://192.168.184.114:8000/ (Press CTRL+C to quit)\n",
      "192.168.184.114 - - [11/Dec/2019 19:59:21] \"POST /request_sql HTTP/1.1\" 200 -\n"
     ]
    },
    {
     "name": "stdout",
     "output_type": "stream",
     "text": [
      "seongheon\n",
      "(('순대국밥', 0),)\n"
     ]
    },
    {
     "name": "stderr",
     "output_type": "stream",
     "text": [
      "192.168.184.114 - - [11/Dec/2019 20:00:21] \"POST /request_sql HTTP/1.1\" 200 -\n"
     ]
    },
    {
     "name": "stdout",
     "output_type": "stream",
     "text": [
      "seongheon\n",
      "(('순대국밥', 0),)\n"
     ]
    },
    {
     "name": "stderr",
     "output_type": "stream",
     "text": [
      "192.168.184.114 - - [11/Dec/2019 20:00:44] \"POST /request_sql HTTP/1.1\" 200 -\n"
     ]
    },
    {
     "name": "stdout",
     "output_type": "stream",
     "text": [
      "seongheon\n",
      "(('순대국밥', 0),)\n"
     ]
    }
   ],
   "source": [
    "from flask import Flask,request\n",
    "from werkzeug import secure_filename\n",
    "import os\n",
    "from flask import send_from_directory\n",
    "import pymysql\n",
    "#Insert 하기\n",
    "def insert_sql(face_id,name,phone,like,hate,blind):\n",
    "    conn = pymysql.connect(host='localhost',\n",
    "            user='seongheon',\n",
    "            password='tjdgjs789',\n",
    "            db='KU_SMART_KIOSK',\n",
    "            charset='utf8')\n",
    "    display(phone)\n",
    "\n",
    "    try:\n",
    "        with conn.cursor() as cursor:\n",
    "            sql = 'INSERT INTO User_d (id,name,phone,love,hate,blind) VALUES (%s, %s, %s,%s,%s,%s)'\n",
    "            cursor.execute(sql,(face_id,name,phone,like,hate,blind))\n",
    "        conn.commit()\n",
    "    finally:\n",
    "        conn.close()\n",
    "        \n",
    "def search_sql(name):\n",
    "    conn = pymysql.connect(host='localhost',\n",
    "            user='seongheon',\n",
    "            password='tjdgjs789',\n",
    "            db='KU_SMART_KIOSK',\n",
    "            charset='utf8')\n",
    "    try:\n",
    "        with conn.cursor() as cursor:\n",
    "            sql = 'Select recent,stamp from user_d where name  = \"' + name + '\"'\n",
    "            cursor.execute(sql)\n",
    "        conn.commit()\n",
    "        return cursor.fetchall()\n",
    "    finally:\n",
    "        conn.close()\n",
    "        \n",
    "app = Flask(__name__)\n",
    "host_addr = \"192.168.184.114\"#\"192.168.0.3\"\n",
    "port_num = \"8000\"\n",
    "@app.route(\"/\")\n",
    "def hello():\n",
    "    return \"hello World\"\n",
    "@app.route(\"/upload\",methods = ['POST']) #upload에 post가 왔을 떄 동작\n",
    "def upload_file():\n",
    "    f = request.files['files'] #Request를 통해 동영상 파일을 받음.\n",
    "    print(f)\n",
    "    f.save(\"C:\\\\Users\\\\rlat3\\\\임베디드 컴퓨팅\\\\upload\\\\\"+(f.filename)) #해당 파일을 지정한 폴더에 저장\n",
    "    print(\"저장하였습니다.\")\n",
    "    select_data(f.filename) # 동영상으로 부터 데이터를 수집\n",
    "    print(\"데이터셋 저장 완료\")\n",
    "    learning() # 모은 데이터로 부터 Learning\n",
    "    print(\"학습완료\")\n",
    "    #send_to_rasp()\n",
    "    print(\"전송완료\")\n",
    "    return 'upload 디렉토리 -> 파일업로드 성공' #response를 보냄\n",
    "@app.route(\"/upload_data\",methods = ['POST'])\n",
    "def upload_data():\n",
    "    f = open(\"count.txt\",'r') # ID를 지정하기 위해 count.txt를 열음\n",
    "    line = f.readline()\n",
    "    name = request.form['name']\n",
    "    phone = request.form['phone']\n",
    "    like = request.form['like']\n",
    "    hate = request.form['hate']\n",
    "    blind = request.form['blind']#들어온 사용자 데이터를 sql에 저장\n",
    "    print(blind)\n",
    "    print(\"데이터 저장 완료\")\n",
    "    print(\"sql에 저장완료\")\n",
    "    insert_sql(line,name,phone,like,hate,blind) #sql에 insert\n",
    "    return \"data 저장 완료\" #response\n",
    "@app.route(\"/get_data\",methods = ['GET'])\n",
    "def get_file(): #라즈베리파이에서 get 메세지가 오면 학습한 데이터를 라즈베리파이에게 보내줌\n",
    "    return send_from_directory(directory=\"C:\\\\Users\\\\rlat3\\\\임베디드 컴퓨팅\\\\trainer\",filename=\"trainer.yml\")\n",
    "@app.route(\"/request_sql\",methods = ['POST'])\n",
    "def get_userinfo():\n",
    "    name = request.form['name']\n",
    "    print(name)\n",
    "    result = search_sql(name)\n",
    "    print(result)\n",
    "    return result[0][0] + \" / \" + str(result[0][1])\n",
    "    \n",
    "if __name__ == \"__main__\":\n",
    "    app.run(host = host_addr, port= port_num)\n"
   ]
  },
  {
   "cell_type": "code",
   "execution_count": null,
   "metadata": {},
   "outputs": [],
   "source": []
  },
  {
   "cell_type": "code",
   "execution_count": null,
   "metadata": {},
   "outputs": [],
   "source": []
  }
 ],
 "metadata": {
  "kernelspec": {
   "display_name": "Python 3",
   "language": "python",
   "name": "python3"
  },
  "language_info": {
   "codemirror_mode": {
    "name": "ipython",
    "version": 3
   },
   "file_extension": ".py",
   "mimetype": "text/x-python",
   "name": "python",
   "nbconvert_exporter": "python",
   "pygments_lexer": "ipython3",
   "version": "3.7.3"
  }
 },
 "nbformat": 4,
 "nbformat_minor": 2
}
