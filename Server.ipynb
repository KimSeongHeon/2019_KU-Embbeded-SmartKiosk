{
 "cells": [
  {
   "cell_type": "markdown",
   "metadata": {},
   "source": [
    "# 데이터 베이스 생성"
   ]
  },
  {
   "cell_type": "code",
   "execution_count": 3,
   "metadata": {},
   "outputs": [],
   "source": [
    "import pymysql\n",
    "#데이터 베이스 생성\n",
    "conn = pymysql.connect(host='localhost', user='root', password='tjdgjs789', charset='utf8')\n",
    "try:\n",
    "    with conn.cursor() as cursor:\n",
    "        sql = 'CREATE DATABASE KU_SMART_KIOSK'\n",
    "        cursor.execute(sql)\n",
    "    conn.commit()\n",
    "finally:\n",
    "    conn.close()"
   ]
  },
  {
   "cell_type": "markdown",
   "metadata": {},
   "source": [
    "# 테이블 생성"
   ]
  },
  {
   "cell_type": "code",
   "execution_count": 53,
   "metadata": {},
   "outputs": [],
   "source": [
    "#테이블 생성\n",
    "conn = pymysql.connect(host='localhost',\n",
    "        user='root',\n",
    "        password='tjdgjs789',\n",
    "        db='KU_SMART_KIOSK',\n",
    "        charset='utf8')\n",
    " \n",
    "try:\n",
    "    with conn.cursor() as cursor:\n",
    "        sql = '''\n",
    "            CREATE TABLE User (\n",
    "                id varchar(11) NOT NULL PRIMARY KEY,\n",
    "                name varchar(255) NOT NULL,\n",
    "                phone varchar(255) NOT NULL,\n",
    "                love varchar(255) NOT NULL,\n",
    "                hate varchar(255) NOT NULL,\n",
    "                blind varchar(11),\n",
    "                recent varchar(255)\n",
    "            ) ENGINE=InnoDB DEFAULT CHARSET=utf8\n",
    "'''\n",
    "        cursor.execute(sql)\n",
    "    conn.commit()\n",
    "finally:\n",
    "    conn.close()"
   ]
  },
  {
   "cell_type": "markdown",
   "metadata": {},
   "source": [
    "# 테이블에 Insert"
   ]
  },
  {
   "cell_type": "code",
   "execution_count": 5,
   "metadata": {},
   "outputs": [],
   "source": [
    "#Insert 하기\n",
    "def insert_sql(face_id,name,phone,like,hate,blind):\n",
    "    conn = pymysql.connect(host='localhost',\n",
    "            user='seongheon',\n",
    "            password='tjdgjs789',\n",
    "            db='KU_SMART_KIOSK',\n",
    "            charset='utf8')\n",
    "    display(phone)\n",
    "\n",
    "    try:\n",
    "        with conn.cursor() as cursor:\n",
    "            sql = 'INSERT INTO User (id,name,phone,love,hate,blind) VALUES (%s, %s, %s,%s,%s,%s)'\n",
    "            cursor.execute(sql,(face_id,name,phone,like,hate,blind))\n",
    "        conn.commit()\n",
    "    finally:\n",
    "        conn.close()"
   ]
  },
  {
   "cell_type": "markdown",
   "metadata": {},
   "source": [
    "# 얼굴 데이터 수집"
   ]
  },
  {
   "cell_type": "code",
   "execution_count": 1,
   "metadata": {},
   "outputs": [],
   "source": [
    "import cv2\n",
    "import os\n",
    "import numpy as np\n",
    "\n",
    "def select_data(Filename):\n",
    "    FilePath = 'C:\\\\Users\\\\rlat3\\\\임베디드 컴퓨팅\\\\upload\\\\'+Filename\n",
    "    cam = cv2.VideoCapture(FilePath)\n",
    "    cam.set(3, 640) # set video width\n",
    "    cam.set(4, 480) # set video height\n",
    "    face_detector = cv2.CascadeClassifier('haarcascade_frontalface_default.xml')\n",
    "\n",
    "    # For each person, enter one numeric face id\n",
    "    #id 지정\n",
    "    f = open(\"count.txt\",'r')\n",
    "    line = f.readline()\n",
    "    print(line)\n",
    "    face_id = int(line) + 1\n",
    "    f.close()\n",
    "    f = open(\"count.txt\",'w')\n",
    "    f.write(str(face_id))\n",
    "    f.close()\n",
    "\n",
    "    # Initialize individual sampling face count\n",
    "    count = 0\n",
    "    while(True):\n",
    "        ret, img = cam.read()\n",
    "        img = cv2.flip(img, 1) # flip video image vertically\n",
    "        gray = cv2.cvtColor(img, cv2.COLOR_BGR2GRAY)\n",
    "        faces = face_detector.detectMultiScale(gray, 1.3, 5)\n",
    "        for (x,y,w,h) in faces:\n",
    "            try:\n",
    "                cv2.rectangle(img, (x,y), (x+w,y+h), (255,0,0), 2)     \n",
    "                count += 1\n",
    "                # Save the captured image into the datasets folder\n",
    "                cv2.imwrite(r\"dataset/User.\" + str(face_id) + '.' + str(count) + \".jpg\", gray[y:y+h,x:x+w])\n",
    "                cv2.imshow('image', img)\n",
    "            except Exception:\n",
    "                print(Exception)\n",
    "                break\n",
    "        k = cv2.waitKey(100) & 0xff # Press 'ESC' for exiting video\n",
    "        if k == 27:\n",
    "            break\n",
    "        elif count >= 30: # Take 30 face sample and stop video\n",
    "            break\n",
    "# Do a bit of cleanup\n",
    "    print(\"\\n [INFO] Exiting Program and cleanup stuff\")\n",
    "    cam.release()\n",
    "    cv2.destroyAllWindows()"
   ]
  },
  {
   "cell_type": "markdown",
   "metadata": {},
   "source": [
    "# 얼굴 데이터 학습"
   ]
  },
  {
   "cell_type": "code",
   "execution_count": 2,
   "metadata": {},
   "outputs": [],
   "source": [
    "from PIL import Image\n",
    "\n",
    "path = 'dataset'\n",
    "recognizer = cv2.face.LBPHFaceRecognizer_create()\n",
    "detector = cv2.CascadeClassifier(\"haarcascade_frontalface_default.xml\");\n",
    "\n",
    "def getImagesAndLabels(path):\n",
    "    imagePaths = [os.path.join(path,f) for f in os.listdir(path)]     \n",
    "    faceSamples=[]\n",
    "    ids = []\n",
    "    for imagePath in imagePaths:\n",
    "        PIL_img = Image.open(imagePath).convert('L') # convert it to grayscale\n",
    "        img_numpy = np.array(PIL_img,'uint8')\n",
    "        print(imagePath)\n",
    "        print(os.path.split(imagePath)[-1].split(\".\")[1])\n",
    "        id = int(os.path.split(imagePath)[-1].split(\".\")[1])\n",
    "        faces = detector.detectMultiScale(img_numpy)\n",
    "        for (x,y,w,h) in faces:\n",
    "            faceSamples.append(img_numpy[y:y+h,x:x+w])\n",
    "            ids.append(id)\n",
    "    return faceSamples,ids\n",
    "def learning():\n",
    "    \n",
    "    print (\"\\n [INFO] Training faces. It will take a few seconds. Wait ...\")\n",
    "    faces,ids = getImagesAndLabels(path)\n",
    "    recognizer.train(faces, np.array(ids))\n",
    "\n",
    "    # Save the model into trainer/trainer.yml\n",
    "    recognizer.write('trainer/trainer.yml') # recognizer.save() worked on Mac, but not on Pi\n",
    "    # Print the numer of faces trained and end program\n",
    "    print(\"\\n [INFO] {0} faces trained. Exiting Program\".format(len(np.unique(ids))))"
   ]
  },
  {
   "cell_type": "markdown",
   "metadata": {},
   "source": [
    "# 학습 데이터를 라즈베리파이로 보내기"
   ]
  },
  {
   "cell_type": "code",
   "execution_count": 7,
   "metadata": {},
   "outputs": [
    {
     "name": "stdout",
     "output_type": "stream",
     "text": [
      "None\n"
     ]
    }
   ],
   "source": [
    "import requests\n",
    "\n",
    "def send_to_rasp():\n",
    "    #보내고자 하는 파일 연다\n",
    "    files = open('C:\\\\Users\\\\rlat3\\\\임베디드 컴퓨팅\\\\trainer\\\\trainer.yml','rb')\n",
    "    #파이썬 딕셔너리 형식으로 file 설정\n",
    "    upload = {'file':files}\n",
    "    URL = \"http://127.0.0.1:10000/learning\"\n",
    "    res = requests.post(URL,files = upload)\n",
    "    \n",
    "print(send_to_rasp())"
   ]
  },
  {
   "cell_type": "markdown",
   "metadata": {},
   "source": [
    "# Flask Server Open"
   ]
  },
  {
   "cell_type": "code",
   "execution_count": null,
   "metadata": {
    "scrolled": true
   },
   "outputs": [
    {
     "name": "stdout",
     "output_type": "stream",
     "text": [
      " * Serving Flask app \"__main__\" (lazy loading)\n",
      " * Environment: production\n",
      "   WARNING: This is a development server. Do not use it in a production deployment.\n",
      "   Use a production WSGI server instead.\n",
      " * Debug mode: off\n"
     ]
    },
    {
     "name": "stderr",
     "output_type": "stream",
     "text": [
      " * Running on http://192.168.0.3:8000/ (Press CTRL+C to quit)\n"
     ]
    },
    {
     "name": "stdout",
     "output_type": "stream",
     "text": [
      "<FileStorage: '2019_12_10_04_05_59.mp4' ('video/mp4')>\n",
      "저장하였습니다.\n",
      "0\n",
      "\n",
      " [INFO] Exiting Program and cleanup stuff\n",
      "데이터셋 저장 완료\n",
      "\n",
      " [INFO] Training faces. It will take a few seconds. Wait ...\n",
      "dataset\\User.1.1.jpg\n",
      "1\n",
      "dataset\\User.1.10.jpg\n",
      "1\n",
      "dataset\\User.1.11.jpg\n",
      "1\n",
      "dataset\\User.1.12.jpg\n",
      "1\n",
      "dataset\\User.1.13.jpg\n",
      "1\n",
      "dataset\\User.1.14.jpg\n",
      "1\n",
      "dataset\\User.1.15.jpg\n",
      "1\n",
      "dataset\\User.1.16.jpg\n",
      "1\n",
      "dataset\\User.1.17.jpg\n",
      "1\n",
      "dataset\\User.1.18.jpg\n",
      "1\n",
      "dataset\\User.1.19.jpg\n",
      "1\n",
      "dataset\\User.1.2.jpg\n",
      "1\n",
      "dataset\\User.1.20.jpg\n",
      "1\n",
      "dataset\\User.1.21.jpg\n",
      "1\n",
      "dataset\\User.1.22.jpg\n",
      "1\n",
      "dataset\\User.1.23.jpg\n",
      "1\n",
      "dataset\\User.1.24.jpg\n",
      "1\n",
      "dataset\\User.1.25.jpg\n",
      "1\n",
      "dataset\\User.1.26.jpg\n",
      "1\n",
      "dataset\\User.1.27.jpg\n",
      "1\n",
      "dataset\\User.1.28.jpg\n",
      "1\n",
      "dataset\\User.1.29.jpg\n",
      "1\n",
      "dataset\\User.1.3.jpg\n",
      "1\n",
      "dataset\\User.1.30.jpg\n",
      "1\n",
      "dataset\\User.1.4.jpg\n",
      "1\n",
      "dataset\\User.1.5.jpg\n",
      "1\n",
      "dataset\\User.1.6.jpg\n",
      "1\n",
      "dataset\\User.1.7.jpg\n",
      "1\n",
      "dataset\\User.1.8.jpg\n",
      "1\n",
      "dataset\\User.1.9.jpg\n",
      "1\n"
     ]
    },
    {
     "name": "stderr",
     "output_type": "stream",
     "text": [
      "192.168.0.5 - - [10/Dec/2019 16:08:15] \"POST /upload HTTP/1.1\" 200 -\n"
     ]
    },
    {
     "name": "stdout",
     "output_type": "stream",
     "text": [
      "\n",
      " [INFO] 1 faces trained. Exiting Program\n",
      "학습완료\n",
      "전송완료\n",
      "예\n",
      "데이터 저장 완료\n",
      "sql에 저장완료\n"
     ]
    },
    {
     "data": {
      "text/plain": [
       "'01074723267'"
      ]
     },
     "metadata": {},
     "output_type": "display_data"
    },
    {
     "name": "stderr",
     "output_type": "stream",
     "text": [
      "192.168.0.5 - - [10/Dec/2019 16:08:17] \"POST /upload_data HTTP/1.1\" 200 -\n"
     ]
    }
   ],
   "source": [
    "from flask import Flask,request\n",
    "from werkzeug import secure_filename\n",
    "import os\n",
    "from flask import send_from_directory\n",
    "import pymysql\n",
    "#Insert 하기\n",
    "def insert_sql(face_id,name,phone,like,hate,blind):\n",
    "    conn = pymysql.connect(host='localhost',\n",
    "            user='seongheon',\n",
    "            password='tjdgjs789',\n",
    "            db='KU_SMART_KIOSK',\n",
    "            charset='utf8')\n",
    "    display(phone)\n",
    "\n",
    "    try:\n",
    "        with conn.cursor() as cursor:\n",
    "            sql = 'INSERT INTO User_d (id,name,phone,love,hate,blind) VALUES (%s, %s, %s,%s,%s,%s)'\n",
    "            cursor.execute(sql,(face_id,name,phone,like,hate,blind))\n",
    "        conn.commit()\n",
    "    finally:\n",
    "        conn.close()\n",
    "app = Flask(__name__)\n",
    "host_addr = \"172.16.164.27\"\n",
    "port_num = \"8000\"\n",
    "@app.route(\"/\")\n",
    "def hello():\n",
    "    return \"hello World\"\n",
    "@app.route(\"/upload\",methods = ['POST'])\n",
    "def upload_file():\n",
    "    f = request.files['files']\n",
    "    print(f)\n",
    "    f.save(\"C:\\\\Users\\\\rlat3\\\\임베디드 컴퓨팅\\\\upload\\\\\"+(f.filename))\n",
    "    print(\"저장하였습니다.\")\n",
    "    select_data(f.filename)\n",
    "    print(\"데이터셋 저장 완료\")\n",
    "    learning()\n",
    "    print(\"학습완료\")\n",
    "    #send_to_rasp()\n",
    "    print(\"전송완료\")\n",
    "    return 'upload 디렉토리 -> 파일업로드 성공'\n",
    "@app.route(\"/upload_data\",methods = ['POST'])\n",
    "def upload_data():\n",
    "    f = open(\"count.txt\",'r')\n",
    "    line = f.readline()\n",
    "    name = request.form['name']\n",
    "    phone = request.form['phone']\n",
    "    like = request.form['like']\n",
    "    hate = request.form['hate']\n",
    "    blind = request.form['blind']\n",
    "    print(blind)\n",
    "    print(\"데이터 저장 완료\")\n",
    "    print(\"sql에 저장완료\")\n",
    "    insert_sql(line,name,phone,like,hate,blind)\n",
    "    return \"data 저장 완료\"\n",
    "@app.route(\"/get_data\",methods = ['GET'])\n",
    "def get_file():\n",
    "    return send_from_directory(directory=\"C:\\\\Users\\\\rlat3\\\\임베디드 컴퓨팅\\\\trainer\",filename=\"trainer.yml\")\n",
    "if __name__ == \"__main__\":\n",
    "    app.run(host = host_addr, port= port_num)\n"
   ]
  },
  {
   "cell_type": "code",
   "execution_count": null,
   "metadata": {},
   "outputs": [],
   "source": []
  },
  {
   "cell_type": "code",
   "execution_count": null,
   "metadata": {},
   "outputs": [],
   "source": []
  }
 ],
 "metadata": {
  "kernelspec": {
   "display_name": "Python 3",
   "language": "python",
   "name": "python3"
  },
  "language_info": {
   "codemirror_mode": {
    "name": "ipython",
    "version": 3
   },
   "file_extension": ".py",
   "mimetype": "text/x-python",
   "name": "python",
   "nbconvert_exporter": "python",
   "pygments_lexer": "ipython3",
   "version": "3.7.3"
  }
 },
 "nbformat": 4,
 "nbformat_minor": 2
}
